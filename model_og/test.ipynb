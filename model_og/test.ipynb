{
 "cells": [
  {
   "cell_type": "code",
   "execution_count": 1,
   "metadata": {},
   "outputs": [],
   "source": [
    "import numpy\n",
    "from PIL import Image"
   ]
  },
  {
   "cell_type": "code",
   "execution_count": 2,
   "metadata": {},
   "outputs": [],
   "source": [
    "## Einops\n",
    "import numpy as np\n",
    "\n",
    "from PIL.Image import fromarray\n",
    "from IPython import get_ipython\n",
    "\n",
    "\n",
    "def display_np_arrays_as_images():\n",
    "    def np_to_png(a):\n",
    "        if 2 <= len(a.shape) <= 3:\n",
    "            return fromarray(np.array(np.clip(a, 0, 1) * 255, dtype='uint8'))._repr_png_()\n",
    "        else:\n",
    "            return fromarray(np.zeros([1, 1], dtype='uint8'))._repr_png_()\n",
    "\n",
    "    def np_to_text(obj, p, cycle):\n",
    "        if len(obj.shape) < 2:\n",
    "            print(repr(obj))\n",
    "        if 2 <= len(obj.shape) <= 3:\n",
    "            pass\n",
    "        else:\n",
    "            print('<array of shape {}>'.format(obj.shape))\n",
    "\n",
    "    get_ipython().display_formatter.formatters['image/png'].for_type(np.ndarray, np_to_png)\n",
    "    get_ipython().display_formatter.formatters['text/plain'].for_type(np.ndarray, np_to_text)\n",
    "\n",
    "\n",
    "from IPython.display import display_html\n",
    "\n",
    "_style_inline = \"\"\"<style>\n",
    ".einops-answer {\n",
    "    color: transparent;\n",
    "    padding: 5px 15px;\n",
    "    background-color: #def;\n",
    "}\n",
    ".einops-answer:hover { color: blue; } \n",
    "</style>\n",
    "\"\"\"\n",
    "\n",
    "\n",
    "def guess(x):\n",
    "    display_html(\n",
    "        _style_inline\n",
    "        + \"<h4>Answer is: <span class='einops-answer'>{x}</span> (hover to see)</h4>\".format(x=tuple(x)),\n",
    "        raw=True)\n",
    "        \n",
    "import einops\n",
    "import numpy as np\n",
    "from PIL import Image\n",
    "display_np_arrays_as_images()"
   ]
  },
  {
   "cell_type": "code",
   "execution_count": 3,
   "metadata": {},
   "outputs": [],
   "source": [
    "import glob\n",
    "filelist = glob.glob('../../lfw/lfw-deepfunneled/lfw-deepfunneled/Angela_Bassett/*.jpg')"
   ]
  },
  {
   "cell_type": "code",
   "execution_count": 4,
   "metadata": {},
   "outputs": [],
   "source": [
    "all_images = (np.array([np.array(Image.open(fname)) for fname in filelist]))/255"
   ]
  },
  {
   "cell_type": "code",
   "execution_count": 5,
   "metadata": {},
   "outputs": [
    {
     "name": "stdout",
     "output_type": "stream",
     "text": [
      "(6, 250, 250, 3) float64\n"
     ]
    }
   ],
   "source": [
    "print(all_images.shape, all_images.dtype)"
   ]
  },
  {
   "cell_type": "code",
   "execution_count": 6,
   "metadata": {},
   "outputs": [],
   "source": [
    "import os"
   ]
  },
  {
   "cell_type": "code",
   "execution_count": 8,
   "metadata": {},
   "outputs": [],
   "source": [
    "wb_name = \"run_2\"\n",
    "path = \"../results/\"+wb_name+\"/\"\n",
    "os.mkdir(path)"
   ]
  },
  {
   "cell_type": "code",
   "execution_count": 16,
   "metadata": {},
   "outputs": [],
   "source": [
    "all_images.dump((path+\"images_2.npy\"))"
   ]
  },
  {
   "cell_type": "code",
   "execution_count": null,
   "metadata": {},
   "outputs": [],
   "source": [
    "all_images[]"
   ]
  },
  {
   "cell_type": "code",
   "execution_count": 96,
   "metadata": {},
   "outputs": [],
   "source": [
    "from einops import rearrange, reduce, repeat"
   ]
  },
  {
   "cell_type": "code",
   "execution_count": 186,
   "metadata": {},
   "outputs": [],
   "source": [
    "tr = rearrange(all_images[0], '(h1 h2) (w1 w2) c -> (h1 w2) (w1 h2) c', h2=25, w2=25)"
   ]
  },
  {
   "cell_type": "code",
   "execution_count": 194,
   "metadata": {},
   "outputs": [],
   "source": [
    "x_p = rearrange(all_images[0], '(h p1) (w p2) c -> (h w) (p1 p2) c', p1 = 50, p2 = 50)"
   ]
  },
  {
   "cell_type": "code",
   "execution_count": null,
   "metadata": {},
   "outputs": [],
   "source": [
    "5*5*(50*50)*3"
   ]
  },
  {
   "cell_type": "code",
   "execution_count": 123,
   "metadata": {},
   "outputs": [
    {
     "data": {
      "text/plain": [
       "(25, 2500, 3)"
      ]
     },
     "execution_count": 123,
     "metadata": {},
     "output_type": "execute_result"
    }
   ],
   "source": [
    "x_p.shape"
   ]
  },
  {
   "cell_type": "code",
   "execution_count": 210,
   "metadata": {},
   "outputs": [
    {
     "data": {
      "text/plain": [
       "(1, 2500, 3)"
      ]
     },
     "execution_count": 210,
     "metadata": {},
     "output_type": "execute_result"
    }
   ],
   "source": [
    "x_p[0:1,:,:].shape"
   ]
  },
  {
   "cell_type": "code",
   "execution_count": 207,
   "metadata": {},
   "outputs": [
    {
     "data": {
      "image/png": "[encoded data removed]",
      "text/plain": []
     },
     "execution_count": 207,
     "metadata": {},
     "output_type": "execute_result"
    }
   ],
   "source": [
    "x_p[11,:,:].reshape(50,50,3)"
   ]
  },
  {
   "cell_type": "code",
   "execution_count": null,
   "metadata": {},
   "outputs": [],
   "source": [
    "image = rearrange(all_images[0], 'b (c h w) -> b c (h w)', h=4, w=4)\n",
    "\n",
    "# Assign each patch a value between 0 and 15\n",
    "for i in range(16):\n",
    "    image[:, i] += i\n",
    "\n",
    "# Reshape the patches back into a single image\n",
    "reassembled_image = einops.rearrange(image, 'b c (h w) -> b (c h w)', h=4, w=4)"
   ]
  }
 ],
 "metadata": {
  "kernelspec": {
   "display_name": "jax_310",
   "language": "python",
   "name": "python3"
  },
  "language_info": {
   "codemirror_mode": {
    "name": "ipython",
    "version": 3
   },
   "file_extension": ".py",
   "mimetype": "text/x-python",
   "name": "python",
   "nbconvert_exporter": "python",
   "pygments_lexer": "ipython3",
   "version": "3.10.8 | packaged by conda-forge | (main, Nov 22 2022, 08:26:04) [GCC 10.4.0]"
  },
  "orig_nbformat": 4,
  "vscode": {
   "interpreter": {
    "hash": "b0acd1efabb006334362d5539cf634a5caec85a558927fcfefa2918e6e757f5d"
   }
  }
 },
 "nbformat": 4,
 "nbformat_minor": 2
}
