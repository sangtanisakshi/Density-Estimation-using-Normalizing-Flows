{
 "cells": [
  {
   "cell_type": "code",
   "execution_count": 1,
   "metadata": {
    "execution": {
     "iopub.execute_input": "2021-04-12T07:59:50.707488Z",
     "iopub.status.busy": "2021-04-12T07:59:50.706702Z",
     "iopub.status.idle": "2021-04-12T07:59:53.360233Z",
     "shell.execute_reply": "2021-04-12T07:59:53.359779Z"
    },
    "papermill": {
     "duration": 2.688706,
     "end_time": "2021-04-12T07:59:53.360375",
     "exception": false,
     "start_time": "2021-04-12T07:59:50.671669",
     "status": "completed"
    },
    "tags": []
   },
   "outputs": [
    {
     "name": "stdout",
     "output_type": "stream",
     "text": [
      "Jax version 0.4.1\n",
      "Flax version 0.5.1\n"
     ]
    }
   ],
   "source": [
    "import jax\n",
    "import flax\n",
    "import jax.numpy as jnp\n",
    "import flax.linen as nn\n",
    "\n",
    "import os\n",
    "import time\n",
    "from functools import partial\n",
    "\n",
    "import numpy as np\n",
    "from matplotlib import pyplot as plt\n",
    "\n",
    "print('Jax version', jax.__version__)\n",
    "print('Flax version', flax.__version__)\n",
    "random_key = jax.random.PRNGKey(0)"
   ]
  },
  {
   "cell_type": "code",
   "execution_count": 8,
   "metadata": {},
   "outputs": [],
   "source": [
    "from layers import squeeze, unsqueeze\n",
    "from layers import Split\n",
    "from layers import ActNorm, Conv1x1, AffineCoupling\n",
    "\n",
    "from model import FlowStep, GLOW\n",
    "\n",
    "from utils import summarize_jax_model\n",
    "from utils import plot_image_grid"
   ]
  },
  {
   "cell_type": "code",
   "execution_count": 9,
   "id": "1d10f2c5",
   "metadata": {
    "execution": {
     "iopub.execute_input": "2021-04-12T08:00:37.420299Z",
     "iopub.status.busy": "2021-04-12T08:00:37.419774Z",
     "iopub.status.idle": "2021-04-12T08:00:37.423966Z",
     "shell.execute_reply": "2021-04-12T08:00:37.423550Z"
    },
    "papermill": {
     "duration": 0.046074,
     "end_time": "2021-04-12T08:00:37.424075",
     "exception": false,
     "start_time": "2021-04-12T08:00:37.378001",
     "status": "completed"
    },
    "tags": []
   },
   "outputs": [],
   "source": [
    "@jax.vmap\n",
    "def get_logpz(z, priors):\n",
    "    logpz = 0\n",
    "    for zi, priori in zip(z, priors):\n",
    "        if priori is None:\n",
    "            logsigma = jnp.zeros(zi.shape)\n",
    "        else:\n",
    "            mu, logsigma = jnp.split(priori, 2, axis=-1)\n",
    "        logpz += jnp.sum(- logsigma - 0.5 * jnp.log(2 * jnp.pi) \n",
    "                         - 0.5 * (zi - mu) ** 2 / jnp.exp(2 * logsigma))\n",
    "    return logpz"
   ]
  },
  {
   "cell_type": "code",
   "execution_count": 10,
   "metadata": {
    "execution": {
     "iopub.execute_input": "2021-04-12T08:00:37.661637Z",
     "iopub.status.busy": "2021-04-12T08:00:37.660763Z",
     "iopub.status.idle": "2021-04-12T08:00:37.666168Z",
     "shell.execute_reply": "2021-04-12T08:00:37.667212Z"
    },
    "papermill": {
     "duration": 0.075107,
     "end_time": "2021-04-12T08:00:37.667428",
     "exception": false,
     "start_time": "2021-04-12T08:00:37.592321",
     "status": "completed"
    },
    "tags": []
   },
   "outputs": [],
   "source": [
    "def map_fn(image_path, num_bits=5, size=256, training=True):\n",
    "    \"\"\"Read image file, quantize and map to [-0.5, 0.5] range.\n",
    "    If num_bits = 8, there is no quantization effect.\"\"\"\n",
    "    image = tf.io.decode_jpeg(tf.io.read_file(image_path))\n",
    "    # Resize input image\n",
    "    image = tf.cast(image, tf.float32)\n",
    "    image = tf.image.resize(image, (size, size))\n",
    "    image = tf.clip_by_value(image, 0., 255.)\n",
    "    # Discretize to the given number of bits\n",
    "    if num_bits < 8:\n",
    "        image = tf.floor(image / 2 ** (8 - num_bits))\n",
    "    # Send to [-1, 1]\n",
    "    num_bins = 2 ** num_bits\n",
    "    image = image / num_bins - 0.5\n",
    "    if training:\n",
    "        image = image + tf.random.uniform(tf.shape(image), 0, 1. / num_bins)\n",
    "    return image\n",
    "\n",
    "\n",
    "@jax.jit\n",
    "def postprocess(x, num_bits):\n",
    "    \"\"\"Map [-0.5, 0.5] quantized images to uint space\"\"\"\n",
    "    num_bins = 2 ** num_bits\n",
    "    x = jnp.floor((x + 0.5) * num_bins)\n",
    "    x *= 256. / num_bins\n",
    "    return jnp.clip(x, 0, 255).astype(jnp.uint8)"
   ]
  },
  {
   "cell_type": "code",
   "execution_count": 11,
   "metadata": {
    "execution": {
     "iopub.execute_input": "2021-04-12T08:00:37.914685Z",
     "iopub.status.busy": "2021-04-12T08:00:37.913855Z",
     "iopub.status.idle": "2021-04-12T08:00:37.936242Z",
     "shell.execute_reply": "2021-04-12T08:00:37.937190Z"
    },
    "papermill": {
     "duration": 0.093191,
     "end_time": "2021-04-12T08:00:37.937406",
     "exception": false,
     "start_time": "2021-04-12T08:00:37.844215",
     "status": "completed"
    },
    "tags": []
   },
   "outputs": [],
   "source": [
    "def sample(model, \n",
    "           params, \n",
    "           eps=None, \n",
    "           shape=None, \n",
    "           sampling_temperature=1.0, \n",
    "           key=jax.random.PRNGKey(0),\n",
    "           postprocess_fn=None, \n",
    "           save_path=None,\n",
    "           display=True):\n",
    "    \"\"\"Sampling only requires a call to the reverse pass of the model\"\"\"\n",
    "    if eps is None:\n",
    "        zL = jax.random.normal(key, shape) \n",
    "    else: \n",
    "        zL = eps[-1]\n",
    "    y, *_ = model.apply(params, zL, eps=eps, sampling_temperature=sampling_temperature, reverse=True)\n",
    "    if postprocess_fn is not None:\n",
    "        y = postprocess_fn(y)\n",
    "    plot_image_grid(y, save_path=save_path, display=display,\n",
    "                    title=None if save_path is None else save_path.rsplit('.', 1)[0].rsplit('/', 1)[-1])\n",
    "    return y"
   ]
  },
  {
   "cell_type": "markdown",
   "metadata": {
    "papermill": {
     "duration": 0.047292,
     "end_time": "2021-04-12T08:00:38.044841",
     "exception": false,
     "start_time": "2021-04-12T08:00:37.997549",
     "status": "completed"
    },
    "tags": []
   },
   "source": [
    "## Training loop"
   ]
  },
  {
   "cell_type": "code",
   "execution_count": 12,
   "metadata": {
    "execution": {
     "iopub.execute_input": "2021-04-12T08:00:38.144987Z",
     "iopub.status.busy": "2021-04-12T08:00:38.143697Z",
     "iopub.status.idle": "2021-04-12T08:00:38.148071Z",
     "shell.execute_reply": "2021-04-12T08:00:38.147580Z"
    },
    "papermill": {
     "duration": 0.066409,
     "end_time": "2021-04-12T08:00:38.148201",
     "exception": false,
     "start_time": "2021-04-12T08:00:38.081792",
     "status": "completed"
    },
    "tags": []
   },
   "outputs": [],
   "source": [
    "def train_glow(train_ds,\n",
    "               val_ds=None,\n",
    "               num_samples=9,\n",
    "               image_size=256,\n",
    "               num_channels=3,\n",
    "               num_bits=5,\n",
    "               init_lr=1e-3,\n",
    "               num_epochs=1,\n",
    "               num_sample_epochs=1,\n",
    "               num_warmup_epochs=10,\n",
    "               num_save_epochs=1,\n",
    "               steps_per_epoch=1,\n",
    "               K=32,\n",
    "               L=3,\n",
    "               nn_width=512,\n",
    "               sampling_temperature=0.7,\n",
    "               learn_top_prior=True,\n",
    "               key=jax.random.PRNGKey(0),\n",
    "               **kwargs):\n",
    "    \"\"\"Simple training loop.\n",
    "    Args:\n",
    "        train_ds: Training dataset iterator (e.g. tensorflow dataset)\n",
    "        val_ds: Validation dataset (optional)\n",
    "        num_samples: Number of samples to generate at each epoch\n",
    "        image_size: Input image size\n",
    "        num_channels: Number of channels in input images\n",
    "        num_bits: Number of bits for discretization\n",
    "        init_lr: Initial learning rate (Adam)\n",
    "        num_epochs: Numer of training epochs\n",
    "        num_sample_epochs: Visualize sample at this interval\n",
    "        num_warmup_epochs: Linear warmup of the learning rate to init_lr\n",
    "        num_save_epochs: save mode at this interval\n",
    "        steps_per_epochs: Number of steps per epochs\n",
    "        K: Number of flow iterations in the GLOW model\n",
    "        L: number of scales in the GLOW model\n",
    "        nn_width: Layer width in the Affine Coupling Layer\n",
    "        sampling_temperature: Smoothing temperature for sampling from the \n",
    "            Gaussian priors (1 = no effect)\n",
    "        learn_top_prior: Whether to learn the prior for highest latent variable zL.\n",
    "            Otherwise, assumes standard unit Gaussian prior\n",
    "        key: Random seed\n",
    "    \"\"\"\n",
    "    del kwargs\n",
    "    # Init model\n",
    "    model = GLOW(K=K,\n",
    "                 L=L, \n",
    "                 nn_width=nn_width, \n",
    "                 learn_top_prior=learn_top_prior,\n",
    "                 key=key)\n",
    "    \n",
    "    # Init optimizer and learning rate schedule\n",
    "    params = model.init(random_key, next(train_ds))\n",
    "    opt = flax.optim.Adam(learning_rate=init_lr).create(params)\n",
    "    \n",
    "    def lr_warmup(step):\n",
    "        return init_lr * jnp.minimum(1., step / (num_warmup_epochs * steps_per_epoch + 1e-8))\n",
    "    \n",
    "    # Helper functions for training\n",
    "    bits_per_dims_norm = np.log(2.) * num_channels * image_size**2\n",
    "    @jax.jit\n",
    "    def get_logpx(z, logdets, priors):\n",
    "        logpz = get_logpz(z, priors)\n",
    "        logpz = jnp.mean(logpz) / bits_per_dims_norm        # bits per dimension normalization\n",
    "        logdets = jnp.mean(logdets) / bits_per_dims_norm\n",
    "        logpx = logpz + logdets - num_bits                  # num_bits: dequantization factor\n",
    "        return logpx, logpz, logdets\n",
    "        \n",
    "    @jax.jit\n",
    "    def train_step(opt, batch):\n",
    "        def loss_fn(params):\n",
    "            _, z, logdets, priors = model.apply(params, batch, reverse=False)\n",
    "            logpx, logpz, logdets = get_logpx(z, logdets, priors)\n",
    "            return - logpx, (logpz, logdets)\n",
    "        logs, grad = jax.value_and_grad(loss_fn, has_aux=True)(opt.target)\n",
    "        opt = opt.apply_gradient(grad, learning_rate=lr_warmup(opt.state.step))\n",
    "        return logs, opt\n",
    "    \n",
    "    # Helper functions for evaluation \n",
    "    @jax.jit\n",
    "    def eval_step(params, batch):\n",
    "        _, z, logdets, priors = model.apply(params, batch, reverse=False)\n",
    "        return - get_logpx(z, logdets, priors)[0]\n",
    "    \n",
    "    # Helper function for sampling from random latent fixed during training for comparison\n",
    "    eps = []\n",
    "    if not os.path.exists(\"samples\"): os.makedirs(\"samples\")\n",
    "    if not os.path.exists(\"weights\"): os.makedirs(\"weights\")\n",
    "    for i in range(L):\n",
    "        expected_h = image_size // 2**(i + 1)\n",
    "        expected_c = num_channels * 2**(i + 1)\n",
    "        if i == L - 1: expected_c *= 2\n",
    "        eps.append(jax.random.normal(key, (num_samples, expected_h, expected_h, expected_c)))\n",
    "    sample_fn = partial(sample, eps=eps, key=key, display=False,\n",
    "                        sampling_temperature=sampling_temperature,\n",
    "                        postprocess_fn=partial(postprocess, num_bits=num_bits))\n",
    "    \n",
    "    # Train\n",
    "    print(\"Start training...\")\n",
    "    print(\"Available jax devices:\", jax.devices())\n",
    "    print()\n",
    "    bits = 0.\n",
    "    start = time.time()\n",
    "    try:\n",
    "        for epoch in range(num_epochs):\n",
    "            # train\n",
    "            for i in range(steps_per_epoch):\n",
    "                batch = next(train_ds)\n",
    "                loss, opt = train_step(opt, batch)\n",
    "                print(f\"\\r\\033[92m[Epoch {epoch + 1}/{num_epochs}]\\033[0m\"\n",
    "                      f\"\\033[93m[Batch {i + 1}/{steps_per_epoch}]\\033[0m\"\n",
    "                      f\" loss = {loss[0]:.5f},\"\n",
    "                      f\" (log(p(z)) = {loss[1][0]:.5f},\"\n",
    "                      f\" logdet = {loss[1][1]:.5f})\", end='')\n",
    "                if np.isnan(loss[0]):\n",
    "                    print(\"\\nModel diverged - NaN loss\")\n",
    "                    return None, None\n",
    "                \n",
    "                step = epoch * steps_per_epoch + i + 1\n",
    "                if step % int(num_sample_epochs * steps_per_epoch) == 0:\n",
    "                    sample_fn(model, opt.target, \n",
    "                              save_path=f\"samples/step_{step:05d}.png\")\n",
    "\n",
    "            # eval on one batch of validation samples \n",
    "            # + generate random sample\n",
    "            t = time.time() - start\n",
    "            if val_ds is not None:\n",
    "                bits = eval_step(opt.target, next(val_ds))\n",
    "            print(f\"\\r\\033[92m[Epoch {epoch + 1}/{num_epochs}]\\033[0m\"\n",
    "                  f\"[{int(t // 3600):02d}h {int((t % 3600) // 60):02d}mn]\"\n",
    "                  f\" train_bits/dims = {loss[0]:.3f},\"\n",
    "                  f\" val_bits/dims = {bits:.3f}\" + \" \" * 50)\n",
    "            \n",
    "            # Save parameters\n",
    "            if (epoch + 1) % num_save_epochs == 0 or epoch == num_epochs - 1:\n",
    "                with open(f'weights/model_epoch={epoch + 1:03d}.weights', 'wb') as f:\n",
    "                    f.write(flax.serialization.to_bytes(opt.target))\n",
    "    except KeyboardInterrupt:\n",
    "        print(f\"\\nInterrupted by user at epoch {epoch + 1}\")\n",
    "        \n",
    "    # returns final model and parameters\n",
    "    return model, opt.target"
   ]
  },
  {
   "cell_type": "markdown",
   "metadata": {
    "papermill": {
     "duration": 0.035548,
     "end_time": "2021-04-12T08:00:38.219427",
     "exception": false,
     "start_time": "2021-04-12T08:00:38.183879",
     "status": "completed"
    },
    "tags": []
   },
   "source": [
    "**Note on multi-devices training:** To extend the code for training on multi-devices we can make use of the `jax.vmap` operator (parallelize across XLA devices) instead of `jax.jit`, we also need to share the current parameters with all the devices (use `flax.jax_utils.replicate` on the optimizer before training), and finally to split the data across the devices, which can be handled with the `tf.data` in the input pipeline. [There is a more complete tutorial with an example here](https://flax.readthedocs.io/en/stable/howtos/ensembling.html)\n",
    "\n",
    "# Experiments\n",
    "\n",
    "**Note:** the current model was trained in a Kaggle notebook, with some computation restrictions: Therefore it was run for 12 epochs due to time limits (roughly 40k training steps) + smaller flow depth (K = 16 instead of 32) to fit into single GPU memory"
   ]
  },
  {
   "cell_type": "code",
   "execution_count": 17,
   "metadata": {
    "execution": {
     "iopub.execute_input": "2021-04-12T08:00:38.296525Z",
     "iopub.status.busy": "2021-04-12T08:00:38.295903Z",
     "iopub.status.idle": "2021-04-12T08:00:38.300025Z",
     "shell.execute_reply": "2021-04-12T08:00:38.299597Z"
    },
    "papermill": {
     "duration": 0.045839,
     "end_time": "2021-04-12T08:00:38.300130",
     "exception": false,
     "start_time": "2021-04-12T08:00:38.254291",
     "status": "completed"
    },
    "tags": []
   },
   "outputs": [],
   "source": [
    "# Data hyperparameters for 1 GPU training\n",
    "# Some small changes to the original model so \n",
    "# everything fits in memory\n",
    "# In particular, I had  to use shallower\n",
    "# flows (smaller K value)\n",
    "config_dict = {\n",
    "    'image_path': \"../lfw/lfw-deepfunneled/lfw-deepfunneled\",\n",
    "    'train_split': 0.7,\n",
    "    'image_size': 32,\n",
    "    'num_channels': 3,\n",
    "    'num_bits': 8, ##changed from 5 to 8\n",
    "    'batch_size': 4,\n",
    "    'K': 16,\n",
    "    'L': 3,\n",
    "    'nn_width': 512, \n",
    "    'learn_top_prior': True,\n",
    "    'sampling_temperature': 0.7,\n",
    "    'init_lr': 1e-3,\n",
    "    'num_epochs': 13,\n",
    "    'num_warmup_epochs': 1,\n",
    "    'num_sample_epochs': 0.2, # Fractional epochs for sampling because one epoch is quite long \n",
    "    'num_save_epochs': 5,\n",
    "}\n",
    "\n",
    "output_hw = config_dict[\"image_size\"] // 2 ** config_dict[\"L\"]\n",
    "output_c = config_dict[\"num_channels\"] * 4**config_dict[\"L\"] // 2**(config_dict[\"L\"] - 1)\n",
    "config_dict[\"sampling_shape\"] = (output_hw, output_hw, output_c)"
   ]
  },
  {
   "cell_type": "markdown",
   "metadata": {
    "papermill": {
     "duration": 0.034909,
     "end_time": "2021-04-12T08:00:38.369926",
     "exception": false,
     "start_time": "2021-04-12T08:00:38.335017",
     "status": "completed"
    },
    "tags": []
   },
   "source": [
    "## Loading the data"
   ]
  },
  {
   "cell_type": "code",
   "execution_count": 23,
   "metadata": {
    "execution": {
     "iopub.execute_input": "2021-04-12T08:00:38.450229Z",
     "iopub.status.busy": "2021-04-12T08:00:38.449717Z",
     "iopub.status.idle": "2021-04-12T08:00:42.747434Z",
     "shell.execute_reply": "2021-04-12T08:00:42.746356Z"
    },
    "papermill": {
     "duration": 4.341473,
     "end_time": "2021-04-12T08:00:42.747579",
     "exception": false,
     "start_time": "2021-04-12T08:00:38.406106",
     "status": "completed"
    },
    "tags": []
   },
   "outputs": [],
   "source": [
    "import glob\n",
    "import tensorflow as tf\n",
    "import tensorflow_datasets as tfds\n",
    "tf.config.experimental.set_visible_devices([], 'GPU')\n",
    "\n",
    "def get_train_dataset(image_path, image_size, num_bits, batch_size, skip=None, **kwargs):\n",
    "    del kwargs\n",
    "    train_ds = tf.data.Dataset.list_files(f\"{image_path}/*/*.jpg\")\n",
    "    if skip is not None:\n",
    "        train_ds = train_ds.skip(skip)\n",
    "    train_ds = train_ds.shuffle(buffer_size=20000)\n",
    "    train_ds = train_ds.map(partial(map_fn, size=image_size, num_bits=num_bits, training=True))\n",
    "    train_ds = train_ds.batch(batch_size)\n",
    "    train_ds = train_ds.repeat()\n",
    "    return iter(tfds.as_numpy(train_ds))\n",
    "\n",
    "\n",
    "def get_val_dataset(image_path, image_size, num_bits, batch_size, \n",
    "                    take=None, repeat=False, **kwargs):\n",
    "    del kwargs\n",
    "    val_ds = tf.data.Dataset.list_files(f\"{image_path}/*/*.jpg\")\n",
    "    if take is not None:\n",
    "        val_ds = val_ds.take(take)\n",
    "    val_ds = val_ds.map(partial(map_fn, size=image_size, num_bits=num_bits, training=False))\n",
    "    val_ds = val_ds.batch(batch_size)\n",
    "    if repeat:\n",
    "        val_ds = val_ds.repeat()\n",
    "    return iter(tfds.as_numpy(val_ds))"
   ]
  },
  {
   "attachments": {},
   "cell_type": "markdown",
   "id": "4a9d9511",
   "metadata": {},
   "source": [
    "## Einops"
   ]
  },
  {
   "cell_type": "code",
   "execution_count": 24,
   "id": "ac7c2a7f",
   "metadata": {},
   "outputs": [],
   "source": [
    "## Einops\n",
    "import numpy as np\n",
    "\n",
    "from PIL.Image import fromarray\n",
    "from IPython import get_ipython\n",
    "\n",
    "\n",
    "def display_np_arrays_as_images():\n",
    "    def np_to_png(a):\n",
    "        if 2 <= len(a.shape) <= 3:\n",
    "            return fromarray(np.array(np.clip(a, 0, 1) * 255, dtype='uint8'))._repr_png_()\n",
    "        else:\n",
    "            return fromarray(np.zeros([1, 1], dtype='uint8'))._repr_png_()\n",
    "\n",
    "    def np_to_text(obj, p, cycle):\n",
    "        if len(obj.shape) < 2:\n",
    "            print(repr(obj))\n",
    "        if 2 <= len(obj.shape) <= 3:\n",
    "            pass\n",
    "        else:\n",
    "            print('<array of shape {}>'.format(obj.shape))\n",
    "\n",
    "    get_ipython().display_formatter.formatters['image/png'].for_type(np.ndarray, np_to_png)\n",
    "    get_ipython().display_formatter.formatters['text/plain'].for_type(np.ndarray, np_to_text)\n",
    "\n",
    "\n",
    "from IPython.display import display_html\n",
    "\n",
    "_style_inline = \"\"\"<style>\n",
    ".einops-answer {\n",
    "    color: transparent;\n",
    "    padding: 5px 15px;\n",
    "    background-color: #def;\n",
    "}\n",
    ".einops-answer:hover { color: blue; } \n",
    "</style>\n",
    "\"\"\"\n",
    "\n",
    "\n",
    "def guess(x):\n",
    "    display_html(\n",
    "        _style_inline\n",
    "        + \"<h4>Answer is: <span class='einops-answer'>{x}</span> (hover to see)</h4>\".format(x=tuple(x)),\n",
    "        raw=True)\n",
    "        \n",
    "import einops\n",
    "import numpy as np\n",
    "from PIL import Image\n",
    "display_np_arrays_as_images()"
   ]
  },
  {
   "cell_type": "code",
   "execution_count": 25,
   "id": "3867ddac",
   "metadata": {},
   "outputs": [
    {
     "name": "stdout",
     "output_type": "stream",
     "text": [
      "13233 training images\n",
      "3308 training steps per epoch\n",
      "CPU times: total: 14.2 s\n",
      "Wall time: 6.48 s\n"
     ]
    }
   ],
   "source": [
    "%%time\n",
    "num_images = len(glob.glob(f\"{config_dict['image_path']}/*/*.jpg\"))\n",
    "config_dict['steps_per_epoch'] = num_images // config_dict['batch_size']\n",
    "train_split = int(config_dict['train_split'] * num_images)\n",
    "print(f\"{num_images} training images\")\n",
    "print(f\"{config_dict['steps_per_epoch']} training steps per epoch\")\n",
    "\n",
    "#Train data\n",
    "train_ds = get_train_dataset(**config_dict, skip=train_split)\n",
    "\n",
    "# Val data\n",
    "# During training we'll only evaluate on one batch of validation \n",
    "# to save on computations\n",
    "val_ds = get_val_dataset(**config_dict, take=config_dict['batch_size'], repeat=True)"
   ]
  },
  {
   "cell_type": "code",
   "execution_count": null,
   "id": "abe7d057",
   "metadata": {},
   "outputs": [],
   "source": [
    "##WIP\n",
    "test_image = \"../lfw/lfw-deepfunneled/lfw-deepfunneled/\""
   ]
  },
  {
   "cell_type": "code",
   "execution_count": 15,
   "metadata": {
    "_kg_hide-input": true,
    "execution": {
     "iopub.execute_input": "2021-04-12T08:00:42.826328Z",
     "iopub.status.busy": "2021-04-12T08:00:42.825817Z",
     "iopub.status.idle": "2021-04-12T08:04:23.819752Z",
     "shell.execute_reply": "2021-04-12T08:04:23.819259Z"
    },
    "papermill": {
     "duration": 221.035393,
     "end_time": "2021-04-12T08:04:23.819876",
     "exception": false,
     "start_time": "2021-04-12T08:00:42.784483",
     "status": "completed"
    },
    "tags": []
   },
   "outputs": [
    {
     "name": "stdout",
     "output_type": "stream",
     "text": [
      "13233 training images\n",
      "3308 training steps per epoch\n"
     ]
    },
    {
     "data": {
      "image/png": "[encoded data removed]",
      "text/plain": [
       "<Figure size 1000x1000 with 8 Axes>"
      ]
     },
     "metadata": {},
     "output_type": "display_data"
    },
    {
     "name": "stdout",
     "output_type": "stream",
     "text": [
      "CPU times: total: 31.5 s\n",
      "Wall time: 16.2 s\n"
     ]
    }
   ],
   "source": [
    "# Sample\n",
    "plot_image_grid(postprocess(next(val_ds), num_bits=config_dict['num_bits'])[:25], \n",
    "                 title=\"Input data sample\")"
   ]
  },
  {
   "cell_type": "markdown",
   "metadata": {
    "papermill": {
     "duration": 0.050374,
     "end_time": "2021-04-12T08:04:23.921997",
     "exception": false,
     "start_time": "2021-04-12T08:04:23.871623",
     "status": "completed"
    },
    "tags": []
   },
   "source": [
    "## Train"
   ]
  },
  {
   "cell_type": "code",
   "execution_count": 18,
   "metadata": {
    "execution": {
     "iopub.execute_input": "2021-04-12T08:04:24.028734Z",
     "iopub.status.busy": "2021-04-12T08:04:24.027676Z",
     "iopub.status.idle": "2021-04-12T15:39:55.159329Z",
     "shell.execute_reply": "2021-04-12T15:39:55.158849Z"
    },
    "papermill": {
     "duration": 27331.188753,
     "end_time": "2021-04-12T15:39:55.161143",
     "exception": false,
     "start_time": "2021-04-12T08:04:23.972390",
     "status": "completed"
    },
    "tags": []
   },
   "outputs": [
    {
     "name": "stderr",
     "output_type": "stream",
     "text": [
      "c:\\Users\\cupca\\Anaconda3\\envs\\jax_nf\\lib\\site-packages\\flax\\optim\\base.py:49: DeprecationWarning: Use `optax` instead of `flax.optim`. Refer to the update guide https://flax.readthedocs.io/en/latest/howtos/optax_update_guide.html for detailed instructions.\n",
      "  warnings.warn(\n"
     ]
    },
    {
     "name": "stdout",
     "output_type": "stream",
     "text": [
      "Start training...\n",
      "Available jax devices: [CpuDevice(id=0)]\n",
      "\n"
     ]
    },
    {
     "name": "stderr",
     "output_type": "stream",
     "text": [
      "c:\\Users\\cupca\\Anaconda3\\envs\\jax_nf\\lib\\site-packages\\flax\\core\\scope.py:740: FutureWarning: jax.tree_leaves is deprecated, and will be removed in a future release. Use jax.tree_util.tree_leaves instead.\n",
      "  abs_value_flat = jax.tree_leaves(abs_value)\n",
      "c:\\Users\\cupca\\Anaconda3\\envs\\jax_nf\\lib\\site-packages\\flax\\core\\scope.py:741: FutureWarning: jax.tree_leaves is deprecated, and will be removed in a future release. Use jax.tree_util.tree_leaves instead.\n",
      "  value_flat = jax.tree_leaves(value)\n",
      "c:\\Users\\cupca\\Anaconda3\\envs\\jax_nf\\lib\\site-packages\\flax\\optim\\base.py:90: FutureWarning: jax.tree_flatten is deprecated, and will be removed in a future release. Use jax.tree_util.tree_flatten instead.\n",
      "  params_flat, treedef = jax.tree_flatten(params)\n",
      "c:\\Users\\cupca\\Anaconda3\\envs\\jax_nf\\lib\\site-packages\\flax\\optim\\base.py:97: FutureWarning: jax.tree_unflatten is deprecated, and will be removed in a future release. Use jax.tree_util.tree_unflatten instead.\n",
      "  new_params = jax.tree_unflatten(treedef, new_params_flat)\n",
      "c:\\Users\\cupca\\Anaconda3\\envs\\jax_nf\\lib\\site-packages\\flax\\optim\\base.py:98: FutureWarning: jax.tree_unflatten is deprecated, and will be removed in a future release. Use jax.tree_util.tree_unflatten instead.\n",
      "  new_param_states = jax.tree_unflatten(treedef, new_states_flat)\n"
     ]
    }
   ],
   "source": [
    "model, params = train_glow(train_ds, val_ds=val_ds, **config_dict)"
   ]
  },
  {
   "cell_type": "code",
   "execution_count": null,
   "metadata": {
    "_kg_hide-input": true,
    "execution": {
     "iopub.execute_input": "2021-04-12T15:40:17.509218Z",
     "iopub.status.busy": "2021-04-12T15:40:17.487573Z",
     "iopub.status.idle": "2021-04-12T15:40:19.576687Z",
     "shell.execute_reply": "2021-04-12T15:40:19.577117Z"
    },
    "papermill": {
     "duration": 13.307516,
     "end_time": "2021-04-12T15:40:19.577280",
     "exception": false,
     "start_time": "2021-04-12T15:40:06.269764",
     "status": "completed"
    },
    "tags": []
   },
   "outputs": [],
   "source": [
    "print(\"Random samples evolution during training\")\n",
    "from PIL import Image\n",
    "\n",
    "# filepaths\n",
    "fp_in = \"samples/step_*.png\"\n",
    "fp_out = \"sample_evolution.gif\"\n",
    "\n",
    "# https://pillow.readthedocs.io/en/stable/handbook/image-file-formats.html#gif\n",
    "img, *imgs = [Image.open(f) for f in sorted(glob.glob(fp_in))]\n",
    "img.save(fp=fp_out, format='GIF', append_images=imgs,\n",
    "         save_all=True, duration=200, loop=0)"
   ]
  },
  {
   "cell_type": "code",
   "execution_count": null,
   "metadata": {},
   "outputs": [],
   "source": [
    "from IPython.core.display import display, HTML\n",
    "display(HTML('<img src=\"sample_evolution.gif\">'))"
   ]
  },
  {
   "cell_type": "markdown",
   "metadata": {
    "papermill": {
     "duration": 11.044445,
     "end_time": "2021-04-12T15:40:42.182704",
     "exception": false,
     "start_time": "2021-04-12T15:40:31.138259",
     "status": "completed"
    },
    "tags": []
   },
   "source": [
    "### Evaluation"
   ]
  },
  {
   "cell_type": "code",
   "execution_count": null,
   "metadata": {
    "execution": {
     "iopub.execute_input": "2021-04-12T15:41:04.692240Z",
     "iopub.status.busy": "2021-04-12T15:41:04.691691Z",
     "iopub.status.idle": "2021-04-12T15:41:04.696459Z",
     "shell.execute_reply": "2021-04-12T15:41:04.696011Z"
    },
    "papermill": {
     "duration": 11.601025,
     "end_time": "2021-04-12T15:41:04.696574",
     "exception": false,
     "start_time": "2021-04-12T15:40:53.095549",
     "status": "completed"
    },
    "tags": []
   },
   "outputs": [],
   "source": [
    "# Optional, example code to load trained weights\n",
    "if False:\n",
    "    model = GLOW(K=config_dict['K'],\n",
    "                 L=config_dict['L'], \n",
    "                 nn_width=config_dict['nn_width'], \n",
    "                 learn_top_prior=config_dict['learn_top_prior'])\n",
    "\n",
    "    with open('weights/model_epoch=100.weights', 'rb') as f:\n",
    "        params = model.init(random_key, jnp.zeros((config_dict['batch_size'],\n",
    "                                                     config_dict['image_size'],\n",
    "                                                     config_dict['image_size'],\n",
    "                                                     config_dict['num_channels'])))\n",
    "        params = flax.serialization.from_bytes(params, f.read())"
   ]
  },
  {
   "cell_type": "code",
   "execution_count": null,
   "metadata": {
    "execution": {
     "iopub.execute_input": "2021-04-12T15:41:26.786697Z",
     "iopub.status.busy": "2021-04-12T15:41:26.784842Z",
     "iopub.status.idle": "2021-04-12T15:41:26.787285Z",
     "shell.execute_reply": "2021-04-12T15:41:26.787698Z"
    },
    "papermill": {
     "duration": 10.929332,
     "end_time": "2021-04-12T15:41:26.787834",
     "exception": false,
     "start_time": "2021-04-12T15:41:15.858502",
     "status": "completed"
    },
    "tags": []
   },
   "outputs": [],
   "source": [
    "def reconstruct(model, params, batch):\n",
    "    global config_dict\n",
    "    x, z, logdets, priors = model.apply(params, batch, reverse=False)\n",
    "    rec, *_ = model.apply(params, z[-1], z=z, reverse=True)\n",
    "    rec = postprocess(rec, config_dict[\"num_bits\"])\n",
    "    plot_image_grid(postprocess(batch, config_dict[\"num_bits\"]), title=\"original\")\n",
    "    plot_image_grid(rec, title=\"reconstructions\")\n",
    "    \n",
    "\n",
    "def interpolate(model, params, batch, num_samples=16):\n",
    "    global config_dict\n",
    "    i1, i2 = np.random.choice(range(batch.shape[0]), size=2, replace=False)\n",
    "    in_ = np.stack([batch[i1], batch[i2]], axis=0)\n",
    "    x, z, logdets, priors = model.apply(params, in_, reverse=False)\n",
    "    # interpolate\n",
    "    interpolated_z = []\n",
    "    for zi in z:\n",
    "        z_1, z_2 = zi[:2]\n",
    "        interpolate = jnp.array([t * z_1 + (1 - t) * z_2 for t in np.linspace(0., 1., 16)])\n",
    "        interpolated_z.append(interpolate)\n",
    "    rec, *_ = model.apply(params, interpolated_z[-1], z=interpolated_z, reverse=True)\n",
    "    rec = postprocess(rec, config_dict[\"num_bits\"])\n",
    "    plot_image_grid(rec, title=\"Linear interpolation\")"
   ]
  },
  {
   "cell_type": "markdown",
   "metadata": {
    "papermill": {
     "duration": 11.020073,
     "end_time": "2021-04-12T15:41:49.314696",
     "exception": false,
     "start_time": "2021-04-12T15:41:38.294623",
     "status": "completed"
    },
    "tags": []
   },
   "source": [
    "### Reconstructions\n",
    "As a sanity check let's first look at image reconstructions: since the model is invertible these should always be perfect, up to small float errors, except in very bad cases e.g. NaN values or other numerical errors"
   ]
  },
  {
   "cell_type": "code",
   "execution_count": null,
   "metadata": {
    "_kg_hide-input": true,
    "execution": {
     "iopub.execute_input": "2021-04-12T15:42:11.633001Z",
     "iopub.status.busy": "2021-04-12T15:42:11.631913Z",
     "iopub.status.idle": "2021-04-12T15:42:35.692850Z",
     "shell.execute_reply": "2021-04-12T15:42:35.693257Z"
    },
    "papermill": {
     "duration": 35.522545,
     "end_time": "2021-04-12T15:42:35.693418",
     "exception": false,
     "start_time": "2021-04-12T15:42:00.170873",
     "status": "completed"
    },
    "tags": []
   },
   "outputs": [],
   "source": [
    "batch = next(val_ds)\n",
    "reconstruct(model, params, batch)"
   ]
  },
  {
   "cell_type": "markdown",
   "metadata": {
    "papermill": {
     "duration": 11.034127,
     "end_time": "2021-04-12T15:42:58.315209",
     "exception": false,
     "start_time": "2021-04-12T15:42:47.281082",
     "status": "completed"
    },
    "tags": []
   },
   "source": [
    "### Sampling\n",
    "Now let's take some random samples from the model, at different sampling temperatures"
   ]
  },
  {
   "cell_type": "code",
   "execution_count": null,
   "metadata": {
    "_kg_hide-input": true,
    "execution": {
     "iopub.execute_input": "2021-04-12T15:43:21.066831Z",
     "iopub.status.busy": "2021-04-12T15:43:21.052362Z",
     "iopub.status.idle": "2021-04-12T15:43:34.220551Z",
     "shell.execute_reply": "2021-04-12T15:43:34.221280Z"
    },
    "papermill": {
     "duration": 24.878295,
     "end_time": "2021-04-12T15:43:34.221512",
     "exception": false,
     "start_time": "2021-04-12T15:43:09.343217",
     "status": "completed"
    },
    "tags": []
   },
   "outputs": [],
   "source": [
    "sample(model, params, shape=(16,) + config_dict[\"sampling_shape\"],  key=random_key,\n",
    "       postprocess_fn=partial(postprocess, num_bits=config_dict[\"num_bits\"]),\n",
    "       save_path=\"samples/final_random_sample_T=1.png\");"
   ]
  },
  {
   "cell_type": "code",
   "execution_count": null,
   "metadata": {
    "_kg_hide-input": true,
    "execution": {
     "iopub.execute_input": "2021-04-12T15:43:56.835211Z",
     "iopub.status.busy": "2021-04-12T15:43:56.834215Z",
     "iopub.status.idle": "2021-04-12T15:44:01.855209Z",
     "shell.execute_reply": "2021-04-12T15:44:01.855708Z"
    },
    "papermill": {
     "duration": 16.114872,
     "end_time": "2021-04-12T15:44:01.855880",
     "exception": false,
     "start_time": "2021-04-12T15:43:45.741008",
     "status": "completed"
    },
    "tags": []
   },
   "outputs": [],
   "source": [
    "sample(model, params, shape=(16,) + config_dict[\"sampling_shape\"], \n",
    "       key=jax.random.PRNGKey(1), sampling_temperature=0.7,\n",
    "       postprocess_fn=partial(postprocess, num_bits=config_dict[\"num_bits\"]),\n",
    "       save_path=\"samples/final_random_sample_T=0.7.png\");"
   ]
  },
  {
   "cell_type": "code",
   "execution_count": null,
   "metadata": {
    "_kg_hide-input": true,
    "execution": {
     "iopub.execute_input": "2021-04-12T15:44:24.635263Z",
     "iopub.status.busy": "2021-04-12T15:44:24.634313Z",
     "iopub.status.idle": "2021-04-12T15:44:30.377588Z",
     "shell.execute_reply": "2021-04-12T15:44:30.378026Z"
    },
    "papermill": {
     "duration": 17.285687,
     "end_time": "2021-04-12T15:44:30.378182",
     "exception": false,
     "start_time": "2021-04-12T15:44:13.092495",
     "status": "completed"
    },
    "tags": []
   },
   "outputs": [],
   "source": [
    "sample(model, params, shape=(16,) + config_dict[\"sampling_shape\"], \n",
    "       key=jax.random.PRNGKey(2), sampling_temperature=0.7,\n",
    "       postprocess_fn=partial(postprocess, num_bits=config_dict[\"num_bits\"]),\n",
    "       save_path=\"samples/final_random_sample_T=0.7.png\");"
   ]
  },
  {
   "cell_type": "code",
   "execution_count": null,
   "metadata": {
    "_kg_hide-input": true,
    "execution": {
     "iopub.execute_input": "2021-04-12T15:44:53.199929Z",
     "iopub.status.busy": "2021-04-12T15:44:53.198719Z",
     "iopub.status.idle": "2021-04-12T15:44:58.692393Z",
     "shell.execute_reply": "2021-04-12T15:44:58.692847Z"
    },
    "papermill": {
     "duration": 17.088802,
     "end_time": "2021-04-12T15:44:58.692989",
     "exception": false,
     "start_time": "2021-04-12T15:44:41.604187",
     "status": "completed"
    },
    "tags": []
   },
   "outputs": [],
   "source": [
    "sample(model, params, shape=(16,) + config_dict[\"sampling_shape\"], \n",
    "       key=jax.random.PRNGKey(3), sampling_temperature=0.5,\n",
    "       postprocess_fn=partial(postprocess, num_bits=config_dict[\"num_bits\"]),\n",
    "       save_path=\"samples/final_random_sample_T=0.5.png\");"
   ]
  },
  {
   "cell_type": "markdown",
   "metadata": {
    "papermill": {
     "duration": 11.667376,
     "end_time": "2021-04-12T15:45:21.581232",
     "exception": false,
     "start_time": "2021-04-12T15:45:09.913856",
     "status": "completed"
    },
    "tags": []
   },
   "source": [
    "### Latent space\n",
    "Finally, we can look at the linear interpolation in the learned latent space: We generate embedding $z_1$ and $z_2$ by feeding two validation set images to Glow. Then we plot the decoded images for latent vectors $t + z_1 + (1 - t) z_2$ for $t \\in [0, 1]$ (at all level of the latent hierarchy).\n",
    "\n",
    "**Note on conditional modeling**  The model can also be extented to conditional generation (in the original code this is done by (i) learning the top prior from one-hot class embedding rather than all zeros input, and (ii) adding a small classifier on top of the output latent which should aim at predicting the correct class).\n",
    "\n",
    "In the original paper, this allows them to do \"semantic manipulation\" on the Celeba dataset by building representative centroid vectors for different attributes/classes (e.g.g $z_{smiling}$ and $z_{non-smiling}$). They can use then use the vector direction $z_{smiling}$ - $z_{non-smiling}$ as a guide to browse the latent space (in that example, to make images more or less \"smiling\")."
   ]
  },
  {
   "cell_type": "code",
   "execution_count": null,
   "metadata": {
    "_kg_hide-input": true,
    "execution": {
     "iopub.execute_input": "2021-04-12T15:45:43.843367Z",
     "iopub.status.busy": "2021-04-12T15:45:43.842441Z",
     "iopub.status.idle": "2021-04-12T15:46:01.569716Z",
     "shell.execute_reply": "2021-04-12T15:46:01.570167Z"
    },
    "papermill": {
     "duration": 28.882994,
     "end_time": "2021-04-12T15:46:01.570316",
     "exception": false,
     "start_time": "2021-04-12T15:45:32.687322",
     "status": "completed"
    },
    "tags": []
   },
   "outputs": [],
   "source": [
    "interpolate(model, params, batch)"
   ]
  },
  {
   "cell_type": "code",
   "execution_count": null,
   "metadata": {
    "_kg_hide-input": true,
    "execution": {
     "iopub.execute_input": "2021-04-12T15:46:23.837424Z",
     "iopub.status.busy": "2021-04-12T15:46:23.836605Z",
     "iopub.status.idle": "2021-04-12T15:46:31.996989Z",
     "shell.execute_reply": "2021-04-12T15:46:31.996494Z"
    },
    "papermill": {
     "duration": 19.295457,
     "end_time": "2021-04-12T15:46:31.997107",
     "exception": false,
     "start_time": "2021-04-12T15:46:12.701650",
     "status": "completed"
    },
    "tags": []
   },
   "outputs": [],
   "source": [
    "interpolate(model, params, batch)"
   ]
  }
 ],
 "metadata": {
  "kernelspec": {
   "display_name": "jax_310",
   "language": "python",
   "name": "python3"
  },
  "language_info": {
   "codemirror_mode": {
    "name": "ipython",
    "version": 3
   },
   "file_extension": ".py",
   "mimetype": "text/x-python",
   "name": "python",
   "nbconvert_exporter": "python",
   "pygments_lexer": "ipython3",
   "version": "3.10.8"
  },
  "papermill": {
   "default_parameters": {},
   "duration": 28036.31319,
   "end_time": "2021-04-12T15:46:48.892318",
   "environment_variables": {},
   "exception": null,
   "input_path": "__notebook__.ipynb",
   "output_path": "__notebook__.ipynb",
   "parameters": {},
   "start_time": "2021-04-12T07:59:32.579128",
   "version": "2.3.2"
  },
  "vscode": {
   "interpreter": {
    "hash": "b0acd1efabb006334362d5539cf634a5caec85a558927fcfefa2918e6e757f5d"
   }
  },
  "widgets": {
   "application/vnd.jupyter.widget-state+json": {
    "state": {},
    "version_major": 2,
    "version_minor": 0
   }
  }
 },
 "nbformat": 4,
 "nbformat_minor": 5
}
